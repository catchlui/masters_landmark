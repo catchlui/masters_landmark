{
  "nbformat": 4,
  "nbformat_minor": 0,
  "metadata": {
    "colab": {
      "name": "ImagePreProcessing.ipynb",
      "provenance": [],
      "collapsed_sections": [],
      "include_colab_link": true
    },
    "kernelspec": {
      "name": "python3",
      "display_name": "Python 3"
    },
    "accelerator": "GPU"
  },
  "cells": [
    {
      "cell_type": "markdown",
      "metadata": {
        "id": "view-in-github",
        "colab_type": "text"
      },
      "source": [
        "<a href=\"https://colab.research.google.com/github/catchlui/masters_landmark/blob/master/ImagePreProcessing.ipynb\" target=\"_parent\"><img src=\"https://colab.research.google.com/assets/colab-badge.svg\" alt=\"Open In Colab\"/></a>"
      ]
    },
    {
      "cell_type": "code",
      "metadata": {
        "id": "TmbJQn0ITCon",
        "colab_type": "code",
        "outputId": "08809824-6314-4961-e8c6-2a7772892a8a",
        "colab": {
          "base_uri": "https://localhost:8080/",
          "height": 121
        }
      },
      "source": [
        "from google.colab import drive\n",
        "drive.mount('/content/gdrive',force_remount=True)"
      ],
      "execution_count": 0,
      "outputs": [
        {
          "output_type": "stream",
          "text": [
            "Go to this URL in a browser: https://accounts.google.com/o/oauth2/auth?client_id=947318989803-6bn6qk8qdgf4n4g3pfee6491hc0brc4i.apps.googleusercontent.com&redirect_uri=urn%3aietf%3awg%3aoauth%3a2.0%3aoob&response_type=code&scope=email%20https%3a%2f%2fwww.googleapis.com%2fauth%2fdocs.test%20https%3a%2f%2fwww.googleapis.com%2fauth%2fdrive%20https%3a%2f%2fwww.googleapis.com%2fauth%2fdrive.photos.readonly%20https%3a%2f%2fwww.googleapis.com%2fauth%2fpeopleapi.readonly\n",
            "\n",
            "Enter your authorization code:\n",
            "··········\n",
            "Mounted at /content/gdrive\n"
          ],
          "name": "stdout"
        }
      ]
    },
    {
      "cell_type": "code",
      "metadata": {
        "id": "Zaeo1LezScUp",
        "colab_type": "code",
        "colab": {}
      },
      "source": [
        "import pandas as pd \n",
        "import sys, requests, shutil, os,multiprocessing,urllib.request\n",
        "from tqdm import tqdm\n",
        "import logging\n",
        "#logging.basicConfig(filename=\"/content/gdrive/My Drive/Colab Notebooks/master_research/downloader.log\", format=\"%(asctime)-15s %(levelname)s %(message)s\",\n",
        "                       # datefmt=\"%F %T\", level=logging.DEBUG)"
      ],
      "execution_count": 0,
      "outputs": []
    },
    {
      "cell_type": "code",
      "metadata": {
        "id": "wjue8PqjiM1i",
        "colab_type": "code",
        "colab": {}
      },
      "source": [
        "data=pd.read_csv('/content/gdrive/My Drive/Colab Notebooks/master_research/train.csv')\n"
      ],
      "execution_count": 0,
      "outputs": []
    },
    {
      "cell_type": "code",
      "metadata": {
        "id": "GE6RQX5oAVYb",
        "colab_type": "code",
        "colab": {}
      },
      "source": [
        "data = data.iloc[:20000,:]\n",
        "\n"
      ],
      "execution_count": 0,
      "outputs": []
    },
    {
      "cell_type": "code",
      "metadata": {
        "id": "7Z81xbFxUmgt",
        "colab_type": "code",
        "outputId": "157df808-14bf-47a9-edbc-f1853e8512a3",
        "colab": {
          "base_uri": "https://localhost:8080/",
          "height": 195
        }
      },
      "source": [
        "data.head()"
      ],
      "execution_count": 0,
      "outputs": [
        {
          "output_type": "execute_result",
          "data": {
            "text/html": [
              "<div>\n",
              "<style scoped>\n",
              "    .dataframe tbody tr th:only-of-type {\n",
              "        vertical-align: middle;\n",
              "    }\n",
              "\n",
              "    .dataframe tbody tr th {\n",
              "        vertical-align: top;\n",
              "    }\n",
              "\n",
              "    .dataframe thead th {\n",
              "        text-align: right;\n",
              "    }\n",
              "</style>\n",
              "<table border=\"1\" class=\"dataframe\">\n",
              "  <thead>\n",
              "    <tr style=\"text-align: right;\">\n",
              "      <th></th>\n",
              "      <th>id</th>\n",
              "      <th>url</th>\n",
              "      <th>landmark_id</th>\n",
              "    </tr>\n",
              "  </thead>\n",
              "  <tbody>\n",
              "    <tr>\n",
              "      <th>0</th>\n",
              "      <td>97c0a12e07ae8dd5</td>\n",
              "      <td>http://lh4.ggpht.com/-f8xYA5l4apw/RSziSQVaABI/...</td>\n",
              "      <td>6347</td>\n",
              "    </tr>\n",
              "    <tr>\n",
              "      <th>1</th>\n",
              "      <td>650c989dd3493748</td>\n",
              "      <td>https://lh5.googleusercontent.com/-PUnMrX7oOyA...</td>\n",
              "      <td>12519</td>\n",
              "    </tr>\n",
              "    <tr>\n",
              "      <th>2</th>\n",
              "      <td>05e63ca9b2cde1f4</td>\n",
              "      <td>http://mw2.google.com/mw-panoramio/photos/medi...</td>\n",
              "      <td>264</td>\n",
              "    </tr>\n",
              "    <tr>\n",
              "      <th>3</th>\n",
              "      <td>08672eddcb2b7c93</td>\n",
              "      <td>http://lh3.ggpht.com/-9fgSxDYwhHA/SMvGEoltKTI/...</td>\n",
              "      <td>13287</td>\n",
              "    </tr>\n",
              "    <tr>\n",
              "      <th>4</th>\n",
              "      <td>fc49cb32ef7f1e89</td>\n",
              "      <td>http://lh6.ggpht.com/-UGAXxvPbr98/S-jGZbyMIPI/...</td>\n",
              "      <td>4018</td>\n",
              "    </tr>\n",
              "  </tbody>\n",
              "</table>\n",
              "</div>"
            ],
            "text/plain": [
              "                 id  ... landmark_id\n",
              "0  97c0a12e07ae8dd5  ...        6347\n",
              "1  650c989dd3493748  ...       12519\n",
              "2  05e63ca9b2cde1f4  ...         264\n",
              "3  08672eddcb2b7c93  ...       13287\n",
              "4  fc49cb32ef7f1e89  ...        4018\n",
              "\n",
              "[5 rows x 3 columns]"
            ]
          },
          "metadata": {
            "tags": []
          },
          "execution_count": 21
        }
      ]
    },
    {
      "cell_type": "code",
      "metadata": {
        "id": "CYgK0oarmYMg",
        "colab_type": "code",
        "colab": {}
      },
      "source": [
        "### Let's delete landmarks without IDs\n",
        "\n",
        "blank_idx = data[data['landmark_id']=='None'].index"
      ],
      "execution_count": 0,
      "outputs": []
    },
    {
      "cell_type": "code",
      "metadata": {
        "id": "CC2qNha3fEwD",
        "colab_type": "code",
        "colab": {}
      },
      "source": [
        "data.drop(blank_idx,inplace=True)"
      ],
      "execution_count": 0,
      "outputs": []
    },
    {
      "cell_type": "code",
      "metadata": {
        "id": "8a8oItSIcWr4",
        "colab_type": "code",
        "outputId": "5874174e-b9d6-4d7e-9058-fe5aaeecb2bc",
        "colab": {
          "base_uri": "https://localhost:8080/",
          "height": 218
        }
      },
      "source": [
        "data.landmark_id.value_counts()"
      ],
      "execution_count": 0,
      "outputs": [
        {
          "output_type": "execute_result",
          "data": {
            "text/plain": [
              "6051     846\n",
              "9633     796\n",
              "6599     408\n",
              "9779     308\n",
              "2061     216\n",
              "        ... \n",
              "8555       1\n",
              "342        1\n",
              "1521       1\n",
              "13029      1\n",
              "12168      1\n",
              "Name: landmark_id, Length: 5018, dtype: int64"
            ]
          },
          "metadata": {
            "tags": []
          },
          "execution_count": 47
        }
      ]
    },
    {
      "cell_type": "code",
      "metadata": {
        "id": "HVUr02hry9KR",
        "colab_type": "code",
        "colab": {}
      },
      "source": [
        "### create a list out of this\n",
        "landmark_dict_key = data.landmark_id.value_counts().keys().tolist()\n",
        "landmark_dict_value = data.landmark_id.value_counts().tolist()\n",
        "landmark_dict = dict(zip(landmark_dict_key,landmark_dict_value))\n"
      ],
      "execution_count": 0,
      "outputs": []
    },
    {
      "cell_type": "code",
      "metadata": {
        "id": "3yLCaOH7zb7P",
        "colab_type": "code",
        "colab": {}
      },
      "source": [
        "landmark_dict_final = {key:value for (key,value) in landmark_dict.items() if value >10 }"
      ],
      "execution_count": 0,
      "outputs": []
    },
    {
      "cell_type": "code",
      "metadata": {
        "id": "w6uf2B4l5kQ5",
        "colab_type": "code",
        "colab": {}
      },
      "source": [
        "landmark_dict_landmark_list = list(landmark_dict_final.keys())"
      ],
      "execution_count": 0,
      "outputs": []
    },
    {
      "cell_type": "code",
      "metadata": {
        "id": "w95pxo6A2Yqi",
        "colab_type": "code",
        "colab": {}
      },
      "source": [
        "new_df = data[data['landmark_id'].isin(landmark_dict_landmark_list)]"
      ],
      "execution_count": 0,
      "outputs": []
    },
    {
      "cell_type": "code",
      "metadata": {
        "id": "2gtnIOL5zG6t",
        "colab_type": "code",
        "outputId": "2cefcc85-70ca-41df-87b4-edfaa9e548b6",
        "colab": {
          "base_uri": "https://localhost:8080/",
          "height": 34
        }
      },
      "source": [
        "len(new_df)"
      ],
      "execution_count": 0,
      "outputs": [
        {
          "output_type": "execute_result",
          "data": {
            "text/plain": [
              "8837"
            ]
          },
          "metadata": {
            "tags": []
          },
          "execution_count": 56
        }
      ]
    },
    {
      "cell_type": "code",
      "metadata": {
        "id": "1Kwgi3f780Q5",
        "colab_type": "code",
        "colab": {}
      },
      "source": [
        "\n",
        "new_df.to_csv ('/content/gdrive/My Drive/Colab Notebooks/master_research/train_8837.csv')"
      ],
      "execution_count": 0,
      "outputs": []
    },
    {
      "cell_type": "code",
      "metadata": {
        "id": "YFbt5fZB8YbI",
        "colab_type": "code",
        "colab": {}
      },
      "source": [
        "data_frame = pd.read_csv('/content/gdrive/My Drive/Colab Notebooks/master_research/train_8837.csv')"
      ],
      "execution_count": 0,
      "outputs": []
    },
    {
      "cell_type": "code",
      "metadata": {
        "id": "dcEXCU-F8fD6",
        "colab_type": "code",
        "outputId": "7f8e6eef-b81c-4fc9-96c4-22ee84eda3a7",
        "colab": {
          "base_uri": "https://localhost:8080/",
          "height": 34
        }
      },
      "source": [
        "len(data_frame)"
      ],
      "execution_count": 0,
      "outputs": [
        {
          "output_type": "execute_result",
          "data": {
            "text/plain": [
              "8837"
            ]
          },
          "metadata": {
            "tags": []
          },
          "execution_count": 5
        }
      ]
    },
    {
      "cell_type": "code",
      "metadata": {
        "id": "6jLYIaawithW",
        "colab_type": "code",
        "colab": {}
      },
      "source": [
        "def ParseData(data_file):\n",
        "    #csvfile = open(data_file, 'r')\n",
        "    #csvreader = csv.reader(csvfile)\n",
        "    key_url_list = [line[:3] for line in zip(data_file['id'],data_file['url'],data_file['landmark_id'])]\n",
        "    return key_url_list  # Chop off header"
      ],
      "execution_count": 0,
      "outputs": []
    },
    {
      "cell_type": "code",
      "metadata": {
        "id": "BZ4hDZKv8jlz",
        "colab_type": "code",
        "colab": {}
      },
      "source": [
        "url_list = ParseData(data_frame)"
      ],
      "execution_count": 0,
      "outputs": []
    },
    {
      "cell_type": "code",
      "metadata": {
        "id": "3ydEN8Jg-ss7",
        "colab_type": "code",
        "outputId": "73781ca9-503d-46c7-8315-be3888c57875",
        "colab": {
          "base_uri": "https://localhost:8080/",
          "height": 67
        }
      },
      "source": [
        "url_list[5]"
      ],
      "execution_count": 0,
      "outputs": [
        {
          "output_type": "execute_result",
          "data": {
            "text/plain": [
              "('d369520abdc48e11',\n",
              " 'https://lh6.googleusercontent.com/-xIJ3I2i3ESk/Ud-m9bYtxoI/AAAAAAAAdho/l-zOMG1nosw/s1600/',\n",
              " 6511)"
            ]
          },
          "metadata": {
            "tags": []
          },
          "execution_count": 8
        }
      ]
    },
    {
      "cell_type": "code",
      "metadata": {
        "id": "u_uy4yTp-KLJ",
        "colab_type": "code",
        "colab": {}
      },
      "source": [
        "from PIL import Image\n",
        "import requests"
      ],
      "execution_count": 0,
      "outputs": []
    },
    {
      "cell_type": "code",
      "metadata": {
        "id": "Y-llrAj981Hi",
        "colab_type": "code",
        "colab": {}
      },
      "source": [
        "def ValidateURL(key_url):\n",
        "    (key, url,landmark_id) = key_url\n",
        "    #print(key,url,landmark_id)\n",
        "    \n",
        "    try:\n",
        "        img = Image.open(requests.get(url, stream=True).raw)\n",
        "        #print('its fine ')\n",
        "        temp.append(key_url)\n",
        "    except:\n",
        "        #print('error:in response')\n",
        "        #logging.warning('Warning: Could not download image %s from %s' % (key, url))\n",
        "        rejected.append(key_url)\n",
        "    return "
      ],
      "execution_count": 0,
      "outputs": []
    },
    {
      "cell_type": "code",
      "metadata": {
        "id": "zw0SEvqW-hIs",
        "colab_type": "code",
        "outputId": "e4f56644-0dac-41af-ce46-91052fa5c380",
        "colab": {
          "base_uri": "https://localhost:8080/",
          "height": 34
        }
      },
      "source": [
        "temp = []\n",
        "rejected = []\n",
        "for i in range(len(url_list)):\n",
        "  if i/1000 == 0:\n",
        "    print(i)\n",
        "  ValidateURL(url_list[i])\n",
        "\n"
      ],
      "execution_count": 0,
      "outputs": [
        {
          "output_type": "stream",
          "text": [
            "0\n"
          ],
          "name": "stdout"
        }
      ]
    },
    {
      "cell_type": "code",
      "metadata": {
        "id": "meDQa8JsScl3",
        "colab_type": "code",
        "colab": {}
      },
      "source": [
        "rejected = pd.DataFrame(rejected)"
      ],
      "execution_count": 0,
      "outputs": []
    },
    {
      "cell_type": "code",
      "metadata": {
        "id": "6HbEG4NkS3d4",
        "colab_type": "code",
        "colab": {}
      },
      "source": [
        "working = pd.DataFrame(temp)"
      ],
      "execution_count": 0,
      "outputs": []
    },
    {
      "cell_type": "code",
      "metadata": {
        "id": "UZ5Gmai6S-0d",
        "colab_type": "code",
        "outputId": "42d1ab9d-82cd-4560-fc88-1141e29487e0",
        "colab": {
          "base_uri": "https://localhost:8080/",
          "height": 34
        }
      },
      "source": [
        "len(temp)"
      ],
      "execution_count": 0,
      "outputs": [
        {
          "output_type": "execute_result",
          "data": {
            "text/plain": [
              "8364"
            ]
          },
          "metadata": {
            "tags": []
          },
          "execution_count": 17
        }
      ]
    },
    {
      "cell_type": "code",
      "metadata": {
        "id": "onLILdBJS2Co",
        "colab_type": "code",
        "colab": {}
      },
      "source": [
        ""
      ],
      "execution_count": 0,
      "outputs": []
    },
    {
      "cell_type": "code",
      "metadata": {
        "id": "AR9AkSEaSo6p",
        "colab_type": "code",
        "colab": {}
      },
      "source": [
        "working.rename(columns={0:'id',1:'url',2:'landmark_id'},inplace=True)"
      ],
      "execution_count": 0,
      "outputs": []
    },
    {
      "cell_type": "code",
      "metadata": {
        "id": "I1hMBObPVGSh",
        "colab_type": "code",
        "colab": {}
      },
      "source": [
        "working.to_csv ('/content/gdrive/My Drive/Colab Notebooks/master_research/train_working_8364.csv')"
      ],
      "execution_count": 0,
      "outputs": []
    },
    {
      "cell_type": "code",
      "metadata": {
        "id": "PQa2V2xird9V",
        "colab_type": "code",
        "colab": {}
      },
      "source": [
        "working = pd.read_csv('/content/gdrive/My Drive/Colab Notebooks/master_research/train_working_8364.csv')"
      ],
      "execution_count": 0,
      "outputs": []
    },
    {
      "cell_type": "code",
      "metadata": {
        "id": "62GFD6nFVH_c",
        "colab_type": "code",
        "outputId": "dcf03aec-2a23-407a-9a88-e6e81473a119",
        "colab": {
          "base_uri": "https://localhost:8080/",
          "height": 195
        }
      },
      "source": [
        "working.head()"
      ],
      "execution_count": 0,
      "outputs": [
        {
          "output_type": "execute_result",
          "data": {
            "text/html": [
              "<div>\n",
              "<style scoped>\n",
              "    .dataframe tbody tr th:only-of-type {\n",
              "        vertical-align: middle;\n",
              "    }\n",
              "\n",
              "    .dataframe tbody tr th {\n",
              "        vertical-align: top;\n",
              "    }\n",
              "\n",
              "    .dataframe thead th {\n",
              "        text-align: right;\n",
              "    }\n",
              "</style>\n",
              "<table border=\"1\" class=\"dataframe\">\n",
              "  <thead>\n",
              "    <tr style=\"text-align: right;\">\n",
              "      <th></th>\n",
              "      <th>Unnamed: 0</th>\n",
              "      <th>id</th>\n",
              "      <th>url</th>\n",
              "      <th>landmark_id</th>\n",
              "    </tr>\n",
              "  </thead>\n",
              "  <tbody>\n",
              "    <tr>\n",
              "      <th>0</th>\n",
              "      <td>0</td>\n",
              "      <td>97c0a12e07ae8dd5</td>\n",
              "      <td>http://lh4.ggpht.com/-f8xYA5l4apw/RSziSQVaABI/...</td>\n",
              "      <td>6347</td>\n",
              "    </tr>\n",
              "    <tr>\n",
              "      <th>1</th>\n",
              "      <td>1</td>\n",
              "      <td>650c989dd3493748</td>\n",
              "      <td>https://lh5.googleusercontent.com/-PUnMrX7oOyA...</td>\n",
              "      <td>12519</td>\n",
              "    </tr>\n",
              "    <tr>\n",
              "      <th>2</th>\n",
              "      <td>2</td>\n",
              "      <td>056708de792326b9</td>\n",
              "      <td>https://lh3.googleusercontent.com/-nbz_XT1dGz4...</td>\n",
              "      <td>5046</td>\n",
              "    </tr>\n",
              "    <tr>\n",
              "      <th>3</th>\n",
              "      <td>3</td>\n",
              "      <td>6ae1e206c579f649</td>\n",
              "      <td>https://lh6.googleusercontent.com/-onL5-pK9nZI...</td>\n",
              "      <td>5554</td>\n",
              "    </tr>\n",
              "    <tr>\n",
              "      <th>4</th>\n",
              "      <td>4</td>\n",
              "      <td>7b1e476a7c89bb34</td>\n",
              "      <td>http://lh5.ggpht.com/-3GWjPriaA9g/Sg3e_S0qEgI/...</td>\n",
              "      <td>12220</td>\n",
              "    </tr>\n",
              "  </tbody>\n",
              "</table>\n",
              "</div>"
            ],
            "text/plain": [
              "   Unnamed: 0  ... landmark_id\n",
              "0           0  ...        6347\n",
              "1           1  ...       12519\n",
              "2           2  ...        5046\n",
              "3           3  ...        5554\n",
              "4           4  ...       12220\n",
              "\n",
              "[5 rows x 4 columns]"
            ]
          },
          "metadata": {
            "tags": []
          },
          "execution_count": 32
        }
      ]
    },
    {
      "cell_type": "code",
      "metadata": {
        "id": "sDLuIltTR50t",
        "colab_type": "code",
        "colab": {}
      },
      "source": [
        "def DownloadImage(key_url):\n",
        "    (key, url,landmark_id) = key_url\n",
        "    #out_dir ='/content/gdrive/My Drive/Colab Notebooks/master_research/test_images_from_train/'\n",
        "    out_dir ='gdrive/My Drive/Colab Notebooks/master_research/train_images/'\n",
        "    #out_dir ='/content/gdrive/My Drive/Colab Notebooks/master_research/validation_images_model/'\n",
        "    \n",
        "    landmark = str(landmark_id)\n",
        "    path = out_dir+ landmark\n",
        "    if not os.path.exists(path):\n",
        "      os.makedirs(path,exist_ok=True)\n",
        "    #path=out_dir\n",
        "    filename = os.path.join(path, '%s.jpg' % key)\n",
        "    print(filename)\n",
        "\n",
        "    try:\n",
        "        #print('in response')\n",
        "        response=requests.get(url, stream=True)\n",
        "        #response = urllib.request.urlopen(url)\n",
        "        with open(filename, 'wb') as out_file:\n",
        "          shutil.copyfileobj(response.raw, out_file)\n",
        "          #del response\n",
        "       \n",
        "    except:\n",
        "        print('error:in response')\n",
        "        logging.warning('Warning: Could not download image %s from %s' % (key, url))\n",
        "        return"
      ],
      "execution_count": 0,
      "outputs": []
    },
    {
      "cell_type": "markdown",
      "metadata": {
        "id": "cexgoEuS58tf",
        "colab_type": "text"
      },
      "source": [
        "# New Section"
      ]
    },
    {
      "cell_type": "code",
      "metadata": {
        "id": "zV6DKnNChxHs",
        "colab_type": "code",
        "colab": {}
      },
      "source": [
        "#key_url_list_test=ParseData(data_test)\n",
        "#key_url_list_valid=ParseData(data_valid)\n",
        "key_url_list_train=ParseData(working)"
      ],
      "execution_count": 0,
      "outputs": []
    },
    {
      "cell_type": "code",
      "metadata": {
        "id": "8dMzzzYUXkBl",
        "colab_type": "code",
        "colab": {}
      },
      "source": [
        "key_url_list_train"
      ],
      "execution_count": 0,
      "outputs": []
    },
    {
      "cell_type": "code",
      "metadata": {
        "id": "YBEnegp5B7FA",
        "colab_type": "code",
        "colab": {}
      },
      "source": [
        "def Run():\n",
        "    #return print('COMMENT ME ! Please run this code on your machine not on a kernel and comment this line :)')\n",
        "    #print(out_dir)\n",
        "    #if not os.path.exists(out_dir):\n",
        "        #os.mkdir(out_dir)\n",
        "    #print(data_file)\n",
        "    #key_url_list = ParseData(data_file)\n",
        "    pool = multiprocessing.Pool(processes=100)  #Adjust number of process regarding to your machine performance\n",
        "    try:\n",
        "        with tqdm(total=len(working)) as pbar:\n",
        "            for i, _ in tqdm(enumerate(pool.imap_unordered(DownloadImage,key_url_list_train))):\n",
        "                pbar.update()\n",
        "    except KeyboardInterrupt:\n",
        "        logging.warning(\"got Ctrl+C\")\n",
        "    finally:\n",
        "        pool.terminate()\n",
        "        pool.join()"
      ],
      "execution_count": 0,
      "outputs": []
    },
    {
      "cell_type": "code",
      "metadata": {
        "id": "nFB9zCy8hzZi",
        "colab_type": "code",
        "colab": {}
      },
      "source": [
        "Run()"
      ],
      "execution_count": 0,
      "outputs": []
    },
    {
      "cell_type": "code",
      "metadata": {
        "id": "A1a-4dQq4x1_",
        "colab_type": "code",
        "outputId": "83a9dfc4-c366-40fd-b9c2-b820472b693b",
        "colab": {
          "base_uri": "https://localhost:8080/",
          "height": 503
        }
      },
      "source": [
        "from IPython.display import Image\n",
        "from IPython.core.display import HTML \n",
        "\n",
        "def displayLandmarkImagesLarge(urls, category_name):\n",
        "    img_style = \"width: 200px; height:160px; margin: 0px; float: left; border: 1px solid black;\"\n",
        "    images_list = ''.join([f\"<img style='{img_style}' src='{u}' />\" for _, u in urls.head(12).iteritems()])\n",
        "    display(HTML(images_list))\n",
        "\n",
        "category = data['landmark_id'].value_counts().keys()[15]\n",
        "urls = data[data['landmark_id'] == category]['url']\n",
        "displayLandmarkImagesLarge(urls, \"\")"
      ],
      "execution_count": 0,
      "outputs": [
        {
          "output_type": "display_data",
          "data": {
            "text/html": [
              "<img style='width: 200px; height:160px; margin: 0px; float: left; border: 1px solid black;' src='https://lh6.googleusercontent.com/-lLI_nZj5fuk/SMlZL0d1HDI/AAAAAAAACoI/MuwNasDcvdY/s1600/' /><img style='width: 200px; height:160px; margin: 0px; float: left; border: 1px solid black;' src='https://lh6.googleusercontent.com/-u3NHyRs_ZQ0/TZI0Fsh17sI/AAAAAAAABPo/s2ReXmJlWKk/s0-d/' /><img style='width: 200px; height:160px; margin: 0px; float: left; border: 1px solid black;' src='https://lh3.googleusercontent.com/-PDHSz6q_jA8/S8VZfMHVViI/AAAAAAAAFJQ/erPhCzr0HVs/s1600/' /><img style='width: 200px; height:160px; margin: 0px; float: left; border: 1px solid black;' src='http://lh3.ggpht.com/-m7cfAZ5SHWE/T1qmsjwKjoI/AAAAAAAAMHw/voDL6yWfO2E/s1600/' /><img style='width: 200px; height:160px; margin: 0px; float: left; border: 1px solid black;' src='http://mw2.google.com/mw-panoramio/photos/medium/55327783.jpg' /><img style='width: 200px; height:160px; margin: 0px; float: left; border: 1px solid black;' src='https://lh4.googleusercontent.com/-hs0-UIy-6MA/UdXA_oJkxNI/AAAAAAAAACQ/W_IkVRWtxZc/s150-c/' /><img style='width: 200px; height:160px; margin: 0px; float: left; border: 1px solid black;' src='http://lh3.ggpht.com/-aY2rmglPSsw/StjPc-MXq7I/AAAAAAAAD1Y/bK9IMJlMmLk/s1600/' /><img style='width: 200px; height:160px; margin: 0px; float: left; border: 1px solid black;' src='https://lh3.googleusercontent.com/-13A3Bx7tAPM/TAiZqDpe1DI/AAAAAAAALsI/apwlP8rh0hM/s1600/' /><img style='width: 200px; height:160px; margin: 0px; float: left; border: 1px solid black;' src='https://lh4.googleusercontent.com/-n1_5na3IMdQ/Rmp1PVqg0sI/AAAAAAAABD8/NYrkN6OabjQ/s1600/' /><img style='width: 200px; height:160px; margin: 0px; float: left; border: 1px solid black;' src='http://lh3.ggpht.com/-p00Kv62DnZ4/TExJplQkZaI/AAAAAAAAAHY/n_-YGy--6UY/s1600/' /><img style='width: 200px; height:160px; margin: 0px; float: left; border: 1px solid black;' src='https://lh5.googleusercontent.com/-4aosBudu3S0/TE89u_3yJKI/AAAAAAAAC-c/mTyhrqLfJJY/s1600/' /><img style='width: 200px; height:160px; margin: 0px; float: left; border: 1px solid black;' src='https://lh5.googleusercontent.com/-62o__FBc5KE/UTNsE0NeILI/AAAAAAAABN8/pNp72Kgri7s/s1600/' />"
            ],
            "text/plain": [
              "<IPython.core.display.HTML object>"
            ]
          },
          "metadata": {
            "tags": []
          }
        }
      ]
    },
    {
      "cell_type": "code",
      "metadata": {
        "id": "fqXisnH-46lA",
        "colab_type": "code",
        "outputId": "64390a10-ecef-471a-dfa5-c9dc21c93671",
        "colab": {
          "resources": {
            "http://localhost:8080/None": {
              "data": "CjwhRE9DVFlQRSBodG1sPgo8aHRtbCBsYW5nPWVuPgogIDxtZXRhIGNoYXJzZXQ9dXRmLTg+CiAgPG1ldGEgbmFtZT12aWV3cG9ydCBjb250ZW50PSJpbml0aWFsLXNjYWxlPTEsIG1pbmltdW0tc2NhbGU9MSwgd2lkdGg9ZGV2aWNlLXdpZHRoIj4KICA8dGl0bGU+RXJyb3IgNDA0IChOb3QgRm91bmQpISExPC90aXRsZT4KICA8c3R5bGU+CiAgICAqe21hcmdpbjowO3BhZGRpbmc6MH1odG1sLGNvZGV7Zm9udDoxNXB4LzIycHggYXJpYWwsc2Fucy1zZXJpZn1odG1se2JhY2tncm91bmQ6I2ZmZjtjb2xvcjojMjIyO3BhZGRpbmc6MTVweH1ib2R5e21hcmdpbjo3JSBhdXRvIDA7bWF4LXdpZHRoOjM5MHB4O21pbi1oZWlnaHQ6MTgwcHg7cGFkZGluZzozMHB4IDAgMTVweH0qID4gYm9keXtiYWNrZ3JvdW5kOnVybCgvL3d3dy5nb29nbGUuY29tL2ltYWdlcy9lcnJvcnMvcm9ib3QucG5nKSAxMDAlIDVweCBuby1yZXBlYXQ7cGFkZGluZy1yaWdodDoyMDVweH1we21hcmdpbjoxMXB4IDAgMjJweDtvdmVyZmxvdzpoaWRkZW59aW5ze2NvbG9yOiM3Nzc7dGV4dC1kZWNvcmF0aW9uOm5vbmV9YSBpbWd7Ym9yZGVyOjB9QG1lZGlhIHNjcmVlbiBhbmQgKG1heC13aWR0aDo3NzJweCl7Ym9keXtiYWNrZ3JvdW5kOm5vbmU7bWFyZ2luLXRvcDowO21heC13aWR0aDpub25lO3BhZGRpbmctcmlnaHQ6MH19I2xvZ297YmFja2dyb3VuZDp1cmwoLy93d3cuZ29vZ2xlLmNvbS9pbWFnZXMvbG9nb3MvZXJyb3JwYWdlL2Vycm9yX2xvZ28tMTUweDU0LnBuZykgbm8tcmVwZWF0O21hcmdpbi1sZWZ0Oi01cHh9QG1lZGlhIG9ubHkgc2NyZWVuIGFuZCAobWluLXJlc29sdXRpb246MTkyZHBpKXsjbG9nb3tiYWNrZ3JvdW5kOnVybCgvL3d3dy5nb29nbGUuY29tL2ltYWdlcy9sb2dvcy9lcnJvcnBhZ2UvZXJyb3JfbG9nby0xNTB4NTQtMngucG5nKSBuby1yZXBlYXQgMCUgMCUvMTAwJSAxMDAlOy1tb3otYm9yZGVyLWltYWdlOnVybCgvL3d3dy5nb29nbGUuY29tL2ltYWdlcy9sb2dvcy9lcnJvcnBhZ2UvZXJyb3JfbG9nby0xNTB4NTQtMngucG5nKSAwfX1AbWVkaWEgb25seSBzY3JlZW4gYW5kICgtd2Via2l0LW1pbi1kZXZpY2UtcGl4ZWwtcmF0aW86Mil7I2xvZ297YmFja2dyb3VuZDp1cmwoLy93d3cuZ29vZ2xlLmNvbS9pbWFnZXMvbG9nb3MvZXJyb3JwYWdlL2Vycm9yX2xvZ28tMTUweDU0LTJ4LnBuZykgbm8tcmVwZWF0Oy13ZWJraXQtYmFja2dyb3VuZC1zaXplOjEwMCUgMTAwJX19I2xvZ297ZGlzcGxheTppbmxpbmUtYmxvY2s7aGVpZ2h0OjU0cHg7d2lkdGg6MTUwcHh9CiAgPC9zdHlsZT4KICA8YSBocmVmPS8vd3d3Lmdvb2dsZS5jb20vPjxzcGFuIGlkPWxvZ28gYXJpYS1sYWJlbD1Hb29nbGU+PC9zcGFuPjwvYT4KICA8cD48Yj40MDQuPC9iPiA8aW5zPlRoYXTigJlzIGFuIGVycm9yLjwvaW5zPgogIDxwPiAgPGlucz5UaGF04oCZcyBhbGwgd2Uga25vdy48L2lucz4K",
              "ok": false,
              "headers": [
                [
                  "content-length",
                  "1449"
                ],
                [
                  "content-type",
                  "text/html; charset=utf-8"
                ]
              ],
              "status": 404,
              "status_text": ""
            }
          },
          "base_uri": "https://localhost:8080/",
          "height": 827
        }
      },
      "source": [
        "# Visualize 6 images for each of the first 4 landmarks, ordered by the number of occurences.\n",
        "LANDMARK_NUMBER = 4\n",
        "IMAGES_NUMBER = 6\n",
        "landMarkIDs = pd.Series(data['landmark_id'].value_counts().keys())[0:LANDMARK_NUMBER]\n",
        "for landMarkID in landMarkIDs:\n",
        "    url = data[data['landmark_id'] == landMarkID]['url'].head(IMAGES_NUMBER)\n",
        "    displayLandmarkImagesLarge(url, \"\")"
      ],
      "execution_count": 0,
      "outputs": [
        {
          "output_type": "display_data",
          "data": {
            "text/html": [
              "<img style='width: 200px; height:160px; margin: 0px; float: left; border: 1px solid black;' src='https://lh5.googleusercontent.com/-7AoJnw2esWw/S7ubehzXuuI/AAAAAAAAAXw/NKnaXkpx1wU/s1600/' /><img style='width: 200px; height:160px; margin: 0px; float: left; border: 1px solid black;' src='https://lh6.googleusercontent.com/-xAmqD_PLM28/RrAE2_jmP0I/AAAAAAAACCU/Vq7NPptikCU/s1600/' /><img style='width: 200px; height:160px; margin: 0px; float: left; border: 1px solid black;' src='https://lh6.googleusercontent.com/-QCDV0ENYxPI/SKfNbKY2CtI/AAAAAAAABxA/UIj8746bUTw/s0-d/' /><img style='width: 200px; height:160px; margin: 0px; float: left; border: 1px solid black;' src='https://lh3.googleusercontent.com/-oYFvHLf8HEQ/TWgcpFrOyiI/AAAAAAAAD0k/o5S4beoVNn0/rj/' /><img style='width: 200px; height:160px; margin: 0px; float: left; border: 1px solid black;' src='https://lh5.googleusercontent.com/-Q15GMLfJpdc/TlJ6IQYpJaI/AAAAAAAAGxM/jYbRZpAFaKA/s1600/' /><img style='width: 200px; height:160px; margin: 0px; float: left; border: 1px solid black;' src='http://lh3.ggpht.com/-zKaU4XvjeFE/R5XRfHXJxRI/AAAAAAAAECQ/fPg2QeEKgJA/s1600/' />"
            ],
            "text/plain": [
              "<IPython.core.display.HTML object>"
            ]
          },
          "metadata": {
            "tags": []
          }
        },
        {
          "output_type": "display_data",
          "data": {
            "text/html": [
              "<img style='width: 200px; height:160px; margin: 0px; float: left; border: 1px solid black;' src='http://lh6.ggpht.com/-MbCfKSsUTLg/RjyNT-6K2OI/AAAAAAAAArk/bCJ_ohFb67M/s1600/' /><img style='width: 200px; height:160px; margin: 0px; float: left; border: 1px solid black;' src='http://lh3.ggpht.com/-IU1Valypm3w/SOaQ-Y_rZ2I/AAAAAAAAAKM/1yhFFFEtOns/s1600/' /><img style='width: 200px; height:160px; margin: 0px; float: left; border: 1px solid black;' src='https://lh6.googleusercontent.com/-v4yKkJvMfEs/TtjusdcsKmI/AAAAAAAAPfo/z3jKfLsmEoA/s1600/' /><img style='width: 200px; height:160px; margin: 0px; float: left; border: 1px solid black;' src='http://lh6.ggpht.com/-IvKcAX9IeQ8/Sb5f9Ur6FaI/AAAAAAAAE4w/pazI3srCO9w/rj/' /><img style='width: 200px; height:160px; margin: 0px; float: left; border: 1px solid black;' src='http://lh6.ggpht.com/-r1LjRS9oOvM/S5AP9aYUj7I/AAAAAAAACW4/9-zRL-rwY40/s1600/' /><img style='width: 200px; height:160px; margin: 0px; float: left; border: 1px solid black;' src='https://lh6.googleusercontent.com/-KmY65KLxSlk/TcUSPEMs44I/AAAAAAAAAwY/pjYvePK5Zlk/s1600/' />"
            ],
            "text/plain": [
              "<IPython.core.display.HTML object>"
            ]
          },
          "metadata": {
            "tags": []
          }
        },
        {
          "output_type": "display_data",
          "data": {
            "text/html": [
              "<img style='width: 200px; height:160px; margin: 0px; float: left; border: 1px solid black;' src='None' /><img style='width: 200px; height:160px; margin: 0px; float: left; border: 1px solid black;' src='None' /><img style='width: 200px; height:160px; margin: 0px; float: left; border: 1px solid black;' src='None' /><img style='width: 200px; height:160px; margin: 0px; float: left; border: 1px solid black;' src='None' /><img style='width: 200px; height:160px; margin: 0px; float: left; border: 1px solid black;' src='None' /><img style='width: 200px; height:160px; margin: 0px; float: left; border: 1px solid black;' src='None' />"
            ],
            "text/plain": [
              "<IPython.core.display.HTML object>"
            ]
          },
          "metadata": {
            "tags": []
          }
        },
        {
          "output_type": "display_data",
          "data": {
            "text/html": [
              "<img style='width: 200px; height:160px; margin: 0px; float: left; border: 1px solid black;' src='https://lh3.googleusercontent.com/-eHd7qIJGI8Q/ScKDCfYviBI/AAAAAAAABMo/LdN8SeQKQzo/s1600/' /><img style='width: 200px; height:160px; margin: 0px; float: left; border: 1px solid black;' src='https://lh3.googleusercontent.com/-L3kzpgPaAeM/SsZ-XWiT83I/AAAAAAAAAeQ/5LSKrPjAw5A/s1600/' /><img style='width: 200px; height:160px; margin: 0px; float: left; border: 1px solid black;' src='https://lh4.googleusercontent.com/-EUIA_8bboTc/R1mWurFgDhI/AAAAAAAAA9s/T0R_Mu2lQpc/s1600/' /><img style='width: 200px; height:160px; margin: 0px; float: left; border: 1px solid black;' src='http://lh5.ggpht.com/-WTcb5nkz43s/TpCzhCD8xXI/AAAAAAAAEdk/Ug3CbrSqzOk/s1600/' /><img style='width: 200px; height:160px; margin: 0px; float: left; border: 1px solid black;' src='http://lh4.ggpht.com/-C5IN3KjL20g/UFip8bDClRI/AAAAAAAAAyk/Tfcrcx6B6tQ/s1600/' /><img style='width: 200px; height:160px; margin: 0px; float: left; border: 1px solid black;' src='https://lh4.googleusercontent.com/-yC6tyZDVb2k/RwBfJdWSmzI/AAAAAAAAAgI/DVMgd-BMzww/rj/' />"
            ],
            "text/plain": [
              "<IPython.core.display.HTML object>"
            ]
          },
          "metadata": {
            "tags": []
          }
        }
      ]
    },
    {
      "cell_type": "code",
      "metadata": {
        "id": "HYrC1o_r5D0h",
        "colab_type": "code",
        "outputId": "c48061f8-12bd-4ca9-b049-5a9736ba6add",
        "colab": {
          "base_uri": "https://localhost:8080/",
          "height": 84
        }
      },
      "source": [
        "pd.Series(data['landmark_id'].value_counts().keys())[1:4]"
      ],
      "execution_count": 0,
      "outputs": [
        {
          "output_type": "execute_result",
          "data": {
            "text/plain": [
              "1    6051\n",
              "2    None\n",
              "3    6599\n",
              "dtype: object"
            ]
          },
          "metadata": {
            "tags": []
          },
          "execution_count": 14
        }
      ]
    },
    {
      "cell_type": "code",
      "metadata": {
        "id": "TSfCYCJF5qwI",
        "colab_type": "code",
        "outputId": "1c8f7470-520a-4840-80f1-ec5003d06df5",
        "colab": {
          "base_uri": "https://localhost:8080/",
          "height": 163
        }
      },
      "source": [
        "from keras.applications.vgg16 import VGG16\n",
        "from keras.preprocessing import image\n",
        "from keras.applications.vgg16 import preprocess_input, decode_predictions\n",
        "import numpy as np\n",
        "\n",
        "model = VGG16(weights = 'imagenet', include_top = True)\n",
        "\n",
        "img_path = r'/content/gdrive/My Drive/Colab Notebooks/master_research/train_images_model/1147/5cefb03a8c8ad42a.jpg'\n",
        "img = image.load_img(img_path, target_size= (224,224))\n",
        "x = image.img_to_array(img)\n",
        "x = np.expand_dims(x, axis = 0)\n",
        "x = preprocess_input(x)\n",
        "\n",
        "preds = model.predict(x)\n",
        "print ('Predicted:', decode_predictions(preds, top = 3)[0])"
      ],
      "execution_count": 0,
      "outputs": [
        {
          "output_type": "stream",
          "text": [
            "Using TensorFlow backend.\n"
          ],
          "name": "stderr"
        },
        {
          "output_type": "display_data",
          "data": {
            "text/html": [
              "<p style=\"color: red;\">\n",
              "The default version of TensorFlow in Colab will soon switch to TensorFlow 2.x.<br>\n",
              "We recommend you <a href=\"https://www.tensorflow.org/guide/migrate\" target=\"_blank\">upgrade</a> now \n",
              "or ensure your notebook will continue to use TensorFlow 1.x via the <code>%tensorflow_version 1.x</code> magic:\n",
              "<a href=\"https://colab.research.google.com/notebooks/tensorflow_version.ipynb\" target=\"_blank\">more info</a>.</p>\n"
            ],
            "text/plain": [
              "<IPython.core.display.HTML object>"
            ]
          },
          "metadata": {
            "tags": []
          }
        },
        {
          "output_type": "stream",
          "text": [
            "Downloading data from https://github.com/fchollet/deep-learning-models/releases/download/v0.1/vgg16_weights_tf_dim_ordering_tf_kernels.h5\n",
            "553467904/553467096 [==============================] - 16s 0us/step\n",
            "Downloading data from https://storage.googleapis.com/download.tensorflow.org/data/imagenet_class_index.json\n",
            "40960/35363 [==================================] - 0s 0us/step\n",
            "Predicted: [('n02859443', 'boathouse', 0.19038849), ('n03028079', 'church', 0.13606061), ('n03933933', 'pier', 0.10720706)]\n"
          ],
          "name": "stdout"
        }
      ]
    },
    {
      "cell_type": "code",
      "metadata": {
        "id": "AMMiRFKjQiNJ",
        "colab_type": "code",
        "outputId": "bd617d0a-2163-4749-a2ed-fe8bdf4e4aac",
        "colab": {
          "base_uri": "https://localhost:8080/",
          "height": 50
        }
      },
      "source": [
        "train_data_dir = '/content/gdrive/My Drive/Colab Notebooks/master_research/train_images_model'\n",
        "validation_data_dir = '/content/gdrive/My Drive/Colab Notebooks/master_research/validation_images_model'\n",
        "\n",
        "#counts the number of files in subdirectories of a given directory. \n",
        "#outputs the count of images and label of each image in order of reading.\n",
        "\n",
        "def count(dir):\n",
        "    i = 1000\n",
        "    count = []\n",
        "    while i <1500:\n",
        "        f = str(i)\n",
        "#         print (f)\n",
        "        for root, dirs, files in os.walk(dir +'/'+ f):  # loop through startfolders\n",
        "            count.append(f)  \n",
        "        i += 1\n",
        "    \n",
        "    return ([len(count),count])\n",
        "\n",
        "#nb_train_samples = count(train_data_dir)\n",
        "print('completed')\n",
        "nb_validation_samples = count(validation_data_dir)\n",
        "\n",
        "print('completed')\n",
        "# nb_train/validation_samples is a list of lists of the format [len(count),count]. len(count) is the total number of images in \n",
        "# train/validation folder. count is a list of class labels i.e. landmark IDs of the images read."
      ],
      "execution_count": 0,
      "outputs": [
        {
          "output_type": "stream",
          "text": [
            "completed\n",
            "completed\n"
          ],
          "name": "stdout"
        }
      ]
    },
    {
      "cell_type": "code",
      "metadata": {
        "id": "rc_2NvWqxksZ",
        "colab_type": "code",
        "outputId": "35937230-a413-4dfd-8d5c-378e93fe0aee",
        "colab": {
          "base_uri": "https://localhost:8080/",
          "height": 34
        }
      },
      "source": [
        "nb_validation_samples[0]"
      ],
      "execution_count": 0,
      "outputs": [
        {
          "output_type": "execute_result",
          "data": {
            "text/plain": [
              "415"
            ]
          },
          "metadata": {
            "tags": []
          },
          "execution_count": 58
        }
      ]
    },
    {
      "cell_type": "code",
      "metadata": {
        "id": "jFuLY041qQgX",
        "colab_type": "code",
        "outputId": "ed5de7a0-561b-4d86-933a-059374e4a994",
        "colab": {
          "base_uri": "https://localhost:8080/",
          "height": 525
        }
      },
      "source": [
        "img_width, img_height = 96, 96 # dimensions of downloaded images.\n",
        "top_model_weights_path = '/content/gdrive/My Drive/Colab Notebooks/master_research/bottleneck_fc_model.h5' # A file with this name would be saved later in the code\n",
        "epochs = 5\n",
        "batch_size = 400 #As found in the previous step\n",
        "def save_bottleneck_features():\n",
        "    datagen = ImageDataGenerator(rescale=1. / 255,\n",
        "                                 rotation_range=30,\n",
        "                                 width_shift_range=0.2,\n",
        "                                 height_shift_range=0.2,\n",
        "                                 zoom_range = 0.5,\n",
        "                                 brightness_range = [0.5,1.5])\n",
        "\n",
        "#     build the VGG16 network\n",
        "    model = applications.VGG16(include_top=False, weights='imagenet', input_shape=(96,96,3))\n",
        "    print ('start1')\n",
        "    generator = datagen.flow_from_directory(\n",
        "        train_data_dir,\n",
        "        target_size=(img_width, img_height),\n",
        "        batch_size=batch_size,\n",
        "        class_mode=None, # this means our generator will only yield batches of data, no labels\n",
        "        shuffle=False) # our data will be in order\n",
        "    \n",
        "#     the predict_generator method returns the output of a model, given a generator that yields batches of numpy data\n",
        "    print ('start2')\n",
        "    bottleneck_features_train = model.predict_generator(generator, nb_train_samples[0] // batch_size) \n",
        "    print(type(bottleneck_features_train))\n",
        "    print ('bottleneck_features_trained')\n",
        "    \n",
        "    \n",
        "    with open('/content/gdrive/My Drive/Colab Notebooks/master_research/bottleneck_features_train.npy', 'wb') as features_train_file:\n",
        "        np.save(features_train_file, bottleneck_features_train)\n",
        "    print ('Train done')\n",
        "    \n",
        "\n",
        "## Had to remove (2061 - a32ee99990779b22.jpg) because was throwing an error\n",
        "    datagen = ImageDataGenerator(rescale=1. / 255) #No image augmentation in validation dataset\n",
        "    generator = datagen.flow_from_directory(\n",
        "        validation_data_dir,\n",
        "        target_size=(img_width, img_height),\n",
        "        batch_size=batch_size,\n",
        "        class_mode=None,\n",
        "        shuffle=False)\n",
        "    print ('validation predict start')\n",
        "    bottleneck_features_validation = model.predict_generator(generator, nb_validation_samples[0] // batch_size)\n",
        "    #print(bottleneck_features_validation.shape)\n",
        "    \n",
        "    with open('/content/gdrive/My Drive/Colab Notebooks/master_research/bottleneck_features_validation.npy', 'wb') as features_validation_file:\n",
        "        np.save(features_validation_file, bottleneck_features_validation)\n",
        "    print ('validation done')\n",
        "save_bottleneck_features()\n"
      ],
      "execution_count": 0,
      "outputs": [
        {
          "output_type": "stream",
          "text": [
            "start1\n",
            "Found 24507 images belonging to 500 classes.\n",
            "start2\n"
          ],
          "name": "stdout"
        },
        {
          "output_type": "stream",
          "text": [
            "/usr/local/lib/python3.6/dist-packages/PIL/Image.py:914: UserWarning: Palette images with Transparency   expressed in bytes should be converted to RGBA images\n",
            "  'to RGBA images')\n"
          ],
          "name": "stderr"
        },
        {
          "output_type": "stream",
          "text": [
            "<class 'numpy.ndarray'>\n",
            "bottleneck_features_trained\n",
            "Train done\n",
            "Found 10694 images belonging to 415 classes.\n",
            "validation predict start\n"
          ],
          "name": "stdout"
        },
        {
          "output_type": "error",
          "ename": "OSError",
          "evalue": "ignored",
          "traceback": [
            "\u001b[0;31m---------------------------------------------------------------------------\u001b[0m",
            "\u001b[0;31mOSError\u001b[0m                                   Traceback (most recent call last)",
            "\u001b[0;32m<ipython-input-60-c266a24e33e8>\u001b[0m in \u001b[0;36m<module>\u001b[0;34m()\u001b[0m\n\u001b[1;32m     48\u001b[0m         \u001b[0mnp\u001b[0m\u001b[0;34m.\u001b[0m\u001b[0msave\u001b[0m\u001b[0;34m(\u001b[0m\u001b[0mfeatures_validation_file\u001b[0m\u001b[0;34m,\u001b[0m \u001b[0mbottleneck_features_validation\u001b[0m\u001b[0;34m)\u001b[0m\u001b[0;34m\u001b[0m\u001b[0;34m\u001b[0m\u001b[0m\n\u001b[1;32m     49\u001b[0m     \u001b[0mprint\u001b[0m \u001b[0;34m(\u001b[0m\u001b[0;34m'validation done'\u001b[0m\u001b[0;34m)\u001b[0m\u001b[0;34m\u001b[0m\u001b[0;34m\u001b[0m\u001b[0m\n\u001b[0;32m---> 50\u001b[0;31m \u001b[0msave_bottleneck_features\u001b[0m\u001b[0;34m(\u001b[0m\u001b[0;34m)\u001b[0m\u001b[0;34m\u001b[0m\u001b[0;34m\u001b[0m\u001b[0m\n\u001b[0m",
            "\u001b[0;32m<ipython-input-60-c266a24e33e8>\u001b[0m in \u001b[0;36msave_bottleneck_features\u001b[0;34m()\u001b[0m\n\u001b[1;32m     42\u001b[0m         shuffle=False)\n\u001b[1;32m     43\u001b[0m     \u001b[0mprint\u001b[0m \u001b[0;34m(\u001b[0m\u001b[0;34m'validation predict start'\u001b[0m\u001b[0;34m)\u001b[0m\u001b[0;34m\u001b[0m\u001b[0;34m\u001b[0m\u001b[0m\n\u001b[0;32m---> 44\u001b[0;31m     \u001b[0mbottleneck_features_validation\u001b[0m \u001b[0;34m=\u001b[0m \u001b[0mmodel\u001b[0m\u001b[0;34m.\u001b[0m\u001b[0mpredict_generator\u001b[0m\u001b[0;34m(\u001b[0m\u001b[0mgenerator\u001b[0m\u001b[0;34m,\u001b[0m \u001b[0mnb_validation_samples\u001b[0m\u001b[0;34m[\u001b[0m\u001b[0;36m0\u001b[0m\u001b[0;34m]\u001b[0m \u001b[0;34m//\u001b[0m \u001b[0mbatch_size\u001b[0m\u001b[0;34m)\u001b[0m\u001b[0;34m\u001b[0m\u001b[0;34m\u001b[0m\u001b[0m\n\u001b[0m\u001b[1;32m     45\u001b[0m     \u001b[0;31m#print(bottleneck_features_validation.shape)\u001b[0m\u001b[0;34m\u001b[0m\u001b[0;34m\u001b[0m\u001b[0;34m\u001b[0m\u001b[0m\n\u001b[1;32m     46\u001b[0m \u001b[0;34m\u001b[0m\u001b[0m\n",
            "\u001b[0;32m/usr/local/lib/python3.6/dist-packages/keras/legacy/interfaces.py\u001b[0m in \u001b[0;36mwrapper\u001b[0;34m(*args, **kwargs)\u001b[0m\n\u001b[1;32m     89\u001b[0m                 warnings.warn('Update your `' + object_name + '` call to the ' +\n\u001b[1;32m     90\u001b[0m                               'Keras 2 API: ' + signature, stacklevel=2)\n\u001b[0;32m---> 91\u001b[0;31m             \u001b[0;32mreturn\u001b[0m \u001b[0mfunc\u001b[0m\u001b[0;34m(\u001b[0m\u001b[0;34m*\u001b[0m\u001b[0margs\u001b[0m\u001b[0;34m,\u001b[0m \u001b[0;34m**\u001b[0m\u001b[0mkwargs\u001b[0m\u001b[0;34m)\u001b[0m\u001b[0;34m\u001b[0m\u001b[0;34m\u001b[0m\u001b[0m\n\u001b[0m\u001b[1;32m     92\u001b[0m         \u001b[0mwrapper\u001b[0m\u001b[0;34m.\u001b[0m\u001b[0m_original_function\u001b[0m \u001b[0;34m=\u001b[0m \u001b[0mfunc\u001b[0m\u001b[0;34m\u001b[0m\u001b[0;34m\u001b[0m\u001b[0m\n\u001b[1;32m     93\u001b[0m         \u001b[0;32mreturn\u001b[0m \u001b[0mwrapper\u001b[0m\u001b[0;34m\u001b[0m\u001b[0;34m\u001b[0m\u001b[0m\n",
            "\u001b[0;32m/usr/local/lib/python3.6/dist-packages/keras/engine/training.py\u001b[0m in \u001b[0;36mpredict_generator\u001b[0;34m(self, generator, steps, callbacks, max_queue_size, workers, use_multiprocessing, verbose)\u001b[0m\n\u001b[1;32m   1770\u001b[0m             \u001b[0mworkers\u001b[0m\u001b[0;34m=\u001b[0m\u001b[0mworkers\u001b[0m\u001b[0;34m,\u001b[0m\u001b[0;34m\u001b[0m\u001b[0;34m\u001b[0m\u001b[0m\n\u001b[1;32m   1771\u001b[0m             \u001b[0muse_multiprocessing\u001b[0m\u001b[0;34m=\u001b[0m\u001b[0muse_multiprocessing\u001b[0m\u001b[0;34m,\u001b[0m\u001b[0;34m\u001b[0m\u001b[0;34m\u001b[0m\u001b[0m\n\u001b[0;32m-> 1772\u001b[0;31m             verbose=verbose)\n\u001b[0m",
            "\u001b[0;32m/usr/local/lib/python3.6/dist-packages/keras/engine/training_generator.py\u001b[0m in \u001b[0;36mpredict_generator\u001b[0;34m(model, generator, steps, callbacks, max_queue_size, workers, use_multiprocessing, verbose)\u001b[0m\n\u001b[1;32m    478\u001b[0m \u001b[0;34m\u001b[0m\u001b[0m\n\u001b[1;32m    479\u001b[0m         \u001b[0;32mwhile\u001b[0m \u001b[0msteps_done\u001b[0m \u001b[0;34m<\u001b[0m \u001b[0msteps\u001b[0m\u001b[0;34m:\u001b[0m\u001b[0;34m\u001b[0m\u001b[0;34m\u001b[0m\u001b[0m\n\u001b[0;32m--> 480\u001b[0;31m             \u001b[0mgenerator_output\u001b[0m \u001b[0;34m=\u001b[0m \u001b[0mnext\u001b[0m\u001b[0;34m(\u001b[0m\u001b[0moutput_generator\u001b[0m\u001b[0;34m)\u001b[0m\u001b[0;34m\u001b[0m\u001b[0;34m\u001b[0m\u001b[0m\n\u001b[0m\u001b[1;32m    481\u001b[0m             \u001b[0;32mif\u001b[0m \u001b[0misinstance\u001b[0m\u001b[0;34m(\u001b[0m\u001b[0mgenerator_output\u001b[0m\u001b[0;34m,\u001b[0m \u001b[0mtuple\u001b[0m\u001b[0;34m)\u001b[0m\u001b[0;34m:\u001b[0m\u001b[0;34m\u001b[0m\u001b[0;34m\u001b[0m\u001b[0m\n\u001b[1;32m    482\u001b[0m                 \u001b[0;31m# Compatibility with the generators\u001b[0m\u001b[0;34m\u001b[0m\u001b[0;34m\u001b[0m\u001b[0;34m\u001b[0m\u001b[0m\n",
            "\u001b[0;32m/usr/local/lib/python3.6/dist-packages/keras/utils/data_utils.py\u001b[0m in \u001b[0;36mget\u001b[0;34m(self)\u001b[0m\n\u001b[1;32m    614\u001b[0m         \u001b[0;32mexcept\u001b[0m \u001b[0mException\u001b[0m\u001b[0;34m:\u001b[0m\u001b[0;34m\u001b[0m\u001b[0;34m\u001b[0m\u001b[0m\n\u001b[1;32m    615\u001b[0m             \u001b[0mself\u001b[0m\u001b[0;34m.\u001b[0m\u001b[0mstop\u001b[0m\u001b[0;34m(\u001b[0m\u001b[0;34m)\u001b[0m\u001b[0;34m\u001b[0m\u001b[0;34m\u001b[0m\u001b[0m\n\u001b[0;32m--> 616\u001b[0;31m             \u001b[0msix\u001b[0m\u001b[0;34m.\u001b[0m\u001b[0mreraise\u001b[0m\u001b[0;34m(\u001b[0m\u001b[0;34m*\u001b[0m\u001b[0msys\u001b[0m\u001b[0;34m.\u001b[0m\u001b[0mexc_info\u001b[0m\u001b[0;34m(\u001b[0m\u001b[0;34m)\u001b[0m\u001b[0;34m)\u001b[0m\u001b[0;34m\u001b[0m\u001b[0;34m\u001b[0m\u001b[0m\n\u001b[0m\u001b[1;32m    617\u001b[0m \u001b[0;34m\u001b[0m\u001b[0m\n\u001b[1;32m    618\u001b[0m \u001b[0;34m\u001b[0m\u001b[0m\n",
            "\u001b[0;32m/usr/local/lib/python3.6/dist-packages/six.py\u001b[0m in \u001b[0;36mreraise\u001b[0;34m(tp, value, tb)\u001b[0m\n\u001b[1;32m    691\u001b[0m             \u001b[0;32mif\u001b[0m \u001b[0mvalue\u001b[0m\u001b[0;34m.\u001b[0m\u001b[0m__traceback__\u001b[0m \u001b[0;32mis\u001b[0m \u001b[0;32mnot\u001b[0m \u001b[0mtb\u001b[0m\u001b[0;34m:\u001b[0m\u001b[0;34m\u001b[0m\u001b[0;34m\u001b[0m\u001b[0m\n\u001b[1;32m    692\u001b[0m                 \u001b[0;32mraise\u001b[0m \u001b[0mvalue\u001b[0m\u001b[0;34m.\u001b[0m\u001b[0mwith_traceback\u001b[0m\u001b[0;34m(\u001b[0m\u001b[0mtb\u001b[0m\u001b[0;34m)\u001b[0m\u001b[0;34m\u001b[0m\u001b[0;34m\u001b[0m\u001b[0m\n\u001b[0;32m--> 693\u001b[0;31m             \u001b[0;32mraise\u001b[0m \u001b[0mvalue\u001b[0m\u001b[0;34m\u001b[0m\u001b[0;34m\u001b[0m\u001b[0m\n\u001b[0m\u001b[1;32m    694\u001b[0m         \u001b[0;32mfinally\u001b[0m\u001b[0;34m:\u001b[0m\u001b[0;34m\u001b[0m\u001b[0;34m\u001b[0m\u001b[0m\n\u001b[1;32m    695\u001b[0m             \u001b[0mvalue\u001b[0m \u001b[0;34m=\u001b[0m \u001b[0;32mNone\u001b[0m\u001b[0;34m\u001b[0m\u001b[0;34m\u001b[0m\u001b[0m\n",
            "\u001b[0;32m/usr/local/lib/python3.6/dist-packages/keras/utils/data_utils.py\u001b[0m in \u001b[0;36mget\u001b[0;34m(self)\u001b[0m\n\u001b[1;32m    601\u001b[0m                 \u001b[0;32mtry\u001b[0m\u001b[0;34m:\u001b[0m\u001b[0;34m\u001b[0m\u001b[0;34m\u001b[0m\u001b[0m\n\u001b[1;32m    602\u001b[0m                     \u001b[0mfuture\u001b[0m \u001b[0;34m=\u001b[0m \u001b[0mself\u001b[0m\u001b[0;34m.\u001b[0m\u001b[0mqueue\u001b[0m\u001b[0;34m.\u001b[0m\u001b[0mget\u001b[0m\u001b[0;34m(\u001b[0m\u001b[0mblock\u001b[0m\u001b[0;34m=\u001b[0m\u001b[0;32mTrue\u001b[0m\u001b[0;34m)\u001b[0m\u001b[0;34m\u001b[0m\u001b[0;34m\u001b[0m\u001b[0m\n\u001b[0;32m--> 603\u001b[0;31m                     \u001b[0minputs\u001b[0m \u001b[0;34m=\u001b[0m \u001b[0mfuture\u001b[0m\u001b[0;34m.\u001b[0m\u001b[0mget\u001b[0m\u001b[0;34m(\u001b[0m\u001b[0mtimeout\u001b[0m\u001b[0;34m=\u001b[0m\u001b[0;36m30\u001b[0m\u001b[0;34m)\u001b[0m\u001b[0;34m\u001b[0m\u001b[0;34m\u001b[0m\u001b[0m\n\u001b[0m\u001b[1;32m    604\u001b[0m                     \u001b[0mself\u001b[0m\u001b[0;34m.\u001b[0m\u001b[0mqueue\u001b[0m\u001b[0;34m.\u001b[0m\u001b[0mtask_done\u001b[0m\u001b[0;34m(\u001b[0m\u001b[0;34m)\u001b[0m\u001b[0;34m\u001b[0m\u001b[0;34m\u001b[0m\u001b[0m\n\u001b[1;32m    605\u001b[0m                 \u001b[0;32mexcept\u001b[0m \u001b[0mmp\u001b[0m\u001b[0;34m.\u001b[0m\u001b[0mTimeoutError\u001b[0m\u001b[0;34m:\u001b[0m\u001b[0;34m\u001b[0m\u001b[0;34m\u001b[0m\u001b[0m\n",
            "\u001b[0;32m/usr/lib/python3.6/multiprocessing/pool.py\u001b[0m in \u001b[0;36mget\u001b[0;34m(self, timeout)\u001b[0m\n\u001b[1;32m    642\u001b[0m             \u001b[0;32mreturn\u001b[0m \u001b[0mself\u001b[0m\u001b[0;34m.\u001b[0m\u001b[0m_value\u001b[0m\u001b[0;34m\u001b[0m\u001b[0;34m\u001b[0m\u001b[0m\n\u001b[1;32m    643\u001b[0m         \u001b[0;32melse\u001b[0m\u001b[0;34m:\u001b[0m\u001b[0;34m\u001b[0m\u001b[0;34m\u001b[0m\u001b[0m\n\u001b[0;32m--> 644\u001b[0;31m             \u001b[0;32mraise\u001b[0m \u001b[0mself\u001b[0m\u001b[0;34m.\u001b[0m\u001b[0m_value\u001b[0m\u001b[0;34m\u001b[0m\u001b[0;34m\u001b[0m\u001b[0m\n\u001b[0m\u001b[1;32m    645\u001b[0m \u001b[0;34m\u001b[0m\u001b[0m\n\u001b[1;32m    646\u001b[0m     \u001b[0;32mdef\u001b[0m \u001b[0m_set\u001b[0m\u001b[0;34m(\u001b[0m\u001b[0mself\u001b[0m\u001b[0;34m,\u001b[0m \u001b[0mi\u001b[0m\u001b[0;34m,\u001b[0m \u001b[0mobj\u001b[0m\u001b[0;34m)\u001b[0m\u001b[0;34m:\u001b[0m\u001b[0;34m\u001b[0m\u001b[0;34m\u001b[0m\u001b[0m\n",
            "\u001b[0;32m/usr/lib/python3.6/multiprocessing/pool.py\u001b[0m in \u001b[0;36mworker\u001b[0;34m(inqueue, outqueue, initializer, initargs, maxtasks, wrap_exception)\u001b[0m\n\u001b[1;32m    117\u001b[0m         \u001b[0mjob\u001b[0m\u001b[0;34m,\u001b[0m \u001b[0mi\u001b[0m\u001b[0;34m,\u001b[0m \u001b[0mfunc\u001b[0m\u001b[0;34m,\u001b[0m \u001b[0margs\u001b[0m\u001b[0;34m,\u001b[0m \u001b[0mkwds\u001b[0m \u001b[0;34m=\u001b[0m \u001b[0mtask\u001b[0m\u001b[0;34m\u001b[0m\u001b[0;34m\u001b[0m\u001b[0m\n\u001b[1;32m    118\u001b[0m         \u001b[0;32mtry\u001b[0m\u001b[0;34m:\u001b[0m\u001b[0;34m\u001b[0m\u001b[0;34m\u001b[0m\u001b[0m\n\u001b[0;32m--> 119\u001b[0;31m             \u001b[0mresult\u001b[0m \u001b[0;34m=\u001b[0m \u001b[0;34m(\u001b[0m\u001b[0;32mTrue\u001b[0m\u001b[0;34m,\u001b[0m \u001b[0mfunc\u001b[0m\u001b[0;34m(\u001b[0m\u001b[0;34m*\u001b[0m\u001b[0margs\u001b[0m\u001b[0;34m,\u001b[0m \u001b[0;34m**\u001b[0m\u001b[0mkwds\u001b[0m\u001b[0;34m)\u001b[0m\u001b[0;34m)\u001b[0m\u001b[0;34m\u001b[0m\u001b[0;34m\u001b[0m\u001b[0m\n\u001b[0m\u001b[1;32m    120\u001b[0m         \u001b[0;32mexcept\u001b[0m \u001b[0mException\u001b[0m \u001b[0;32mas\u001b[0m \u001b[0me\u001b[0m\u001b[0;34m:\u001b[0m\u001b[0;34m\u001b[0m\u001b[0;34m\u001b[0m\u001b[0m\n\u001b[1;32m    121\u001b[0m             \u001b[0;32mif\u001b[0m \u001b[0mwrap_exception\u001b[0m \u001b[0;32mand\u001b[0m \u001b[0mfunc\u001b[0m \u001b[0;32mis\u001b[0m \u001b[0;32mnot\u001b[0m \u001b[0m_helper_reraises_exception\u001b[0m\u001b[0;34m:\u001b[0m\u001b[0;34m\u001b[0m\u001b[0;34m\u001b[0m\u001b[0m\n",
            "\u001b[0;32m/usr/local/lib/python3.6/dist-packages/keras/utils/data_utils.py\u001b[0m in \u001b[0;36mget_index\u001b[0;34m(uid, i)\u001b[0m\n\u001b[1;32m    404\u001b[0m         \u001b[0mThe\u001b[0m \u001b[0mvalue\u001b[0m \u001b[0mat\u001b[0m \u001b[0mindex\u001b[0m\u001b[0;31m \u001b[0m\u001b[0;31m`\u001b[0m\u001b[0mi\u001b[0m\u001b[0;31m`\u001b[0m\u001b[0;34m.\u001b[0m\u001b[0;34m\u001b[0m\u001b[0;34m\u001b[0m\u001b[0m\n\u001b[1;32m    405\u001b[0m     \"\"\"\n\u001b[0;32m--> 406\u001b[0;31m     \u001b[0;32mreturn\u001b[0m \u001b[0m_SHARED_SEQUENCES\u001b[0m\u001b[0;34m[\u001b[0m\u001b[0muid\u001b[0m\u001b[0;34m]\u001b[0m\u001b[0;34m[\u001b[0m\u001b[0mi\u001b[0m\u001b[0;34m]\u001b[0m\u001b[0;34m\u001b[0m\u001b[0;34m\u001b[0m\u001b[0m\n\u001b[0m\u001b[1;32m    407\u001b[0m \u001b[0;34m\u001b[0m\u001b[0m\n\u001b[1;32m    408\u001b[0m \u001b[0;34m\u001b[0m\u001b[0m\n",
            "\u001b[0;32m/usr/local/lib/python3.6/dist-packages/keras_preprocessing/image/iterator.py\u001b[0m in \u001b[0;36m__getitem__\u001b[0;34m(self, idx)\u001b[0m\n\u001b[1;32m     63\u001b[0m         index_array = self.index_array[self.batch_size * idx:\n\u001b[1;32m     64\u001b[0m                                        self.batch_size * (idx + 1)]\n\u001b[0;32m---> 65\u001b[0;31m         \u001b[0;32mreturn\u001b[0m \u001b[0mself\u001b[0m\u001b[0;34m.\u001b[0m\u001b[0m_get_batches_of_transformed_samples\u001b[0m\u001b[0;34m(\u001b[0m\u001b[0mindex_array\u001b[0m\u001b[0;34m)\u001b[0m\u001b[0;34m\u001b[0m\u001b[0;34m\u001b[0m\u001b[0m\n\u001b[0m\u001b[1;32m     66\u001b[0m \u001b[0;34m\u001b[0m\u001b[0m\n\u001b[1;32m     67\u001b[0m     \u001b[0;32mdef\u001b[0m \u001b[0m__len__\u001b[0m\u001b[0;34m(\u001b[0m\u001b[0mself\u001b[0m\u001b[0;34m)\u001b[0m\u001b[0;34m:\u001b[0m\u001b[0;34m\u001b[0m\u001b[0;34m\u001b[0m\u001b[0m\n",
            "\u001b[0;32m/usr/local/lib/python3.6/dist-packages/keras_preprocessing/image/iterator.py\u001b[0m in \u001b[0;36m_get_batches_of_transformed_samples\u001b[0;34m(self, index_array)\u001b[0m\n\u001b[1;32m    228\u001b[0m                            \u001b[0mcolor_mode\u001b[0m\u001b[0;34m=\u001b[0m\u001b[0mself\u001b[0m\u001b[0;34m.\u001b[0m\u001b[0mcolor_mode\u001b[0m\u001b[0;34m,\u001b[0m\u001b[0;34m\u001b[0m\u001b[0;34m\u001b[0m\u001b[0m\n\u001b[1;32m    229\u001b[0m                            \u001b[0mtarget_size\u001b[0m\u001b[0;34m=\u001b[0m\u001b[0mself\u001b[0m\u001b[0;34m.\u001b[0m\u001b[0mtarget_size\u001b[0m\u001b[0;34m,\u001b[0m\u001b[0;34m\u001b[0m\u001b[0;34m\u001b[0m\u001b[0m\n\u001b[0;32m--> 230\u001b[0;31m                            interpolation=self.interpolation)\n\u001b[0m\u001b[1;32m    231\u001b[0m             \u001b[0mx\u001b[0m \u001b[0;34m=\u001b[0m \u001b[0mimg_to_array\u001b[0m\u001b[0;34m(\u001b[0m\u001b[0mimg\u001b[0m\u001b[0;34m,\u001b[0m \u001b[0mdata_format\u001b[0m\u001b[0;34m=\u001b[0m\u001b[0mself\u001b[0m\u001b[0;34m.\u001b[0m\u001b[0mdata_format\u001b[0m\u001b[0;34m)\u001b[0m\u001b[0;34m\u001b[0m\u001b[0;34m\u001b[0m\u001b[0m\n\u001b[1;32m    232\u001b[0m             \u001b[0;31m# Pillow images should be closed after `load_img`,\u001b[0m\u001b[0;34m\u001b[0m\u001b[0;34m\u001b[0m\u001b[0;34m\u001b[0m\u001b[0m\n",
            "\u001b[0;32m/usr/local/lib/python3.6/dist-packages/keras_preprocessing/image/utils.py\u001b[0m in \u001b[0;36mload_img\u001b[0;34m(path, grayscale, color_mode, target_size, interpolation)\u001b[0m\n\u001b[1;32m    108\u001b[0m         raise ImportError('Could not import PIL.Image. '\n\u001b[1;32m    109\u001b[0m                           'The use of `load_img` requires PIL.')\n\u001b[0;32m--> 110\u001b[0;31m     \u001b[0mimg\u001b[0m \u001b[0;34m=\u001b[0m \u001b[0mpil_image\u001b[0m\u001b[0;34m.\u001b[0m\u001b[0mopen\u001b[0m\u001b[0;34m(\u001b[0m\u001b[0mpath\u001b[0m\u001b[0;34m)\u001b[0m\u001b[0;34m\u001b[0m\u001b[0;34m\u001b[0m\u001b[0m\n\u001b[0m\u001b[1;32m    111\u001b[0m     \u001b[0;32mif\u001b[0m \u001b[0mcolor_mode\u001b[0m \u001b[0;34m==\u001b[0m \u001b[0;34m'grayscale'\u001b[0m\u001b[0;34m:\u001b[0m\u001b[0;34m\u001b[0m\u001b[0;34m\u001b[0m\u001b[0m\n\u001b[1;32m    112\u001b[0m         \u001b[0;32mif\u001b[0m \u001b[0mimg\u001b[0m\u001b[0;34m.\u001b[0m\u001b[0mmode\u001b[0m \u001b[0;34m!=\u001b[0m \u001b[0;34m'L'\u001b[0m\u001b[0;34m:\u001b[0m\u001b[0;34m\u001b[0m\u001b[0;34m\u001b[0m\u001b[0m\n",
            "\u001b[0;32m/usr/local/lib/python3.6/dist-packages/PIL/Image.py\u001b[0m in \u001b[0;36mopen\u001b[0;34m(fp, mode)\u001b[0m\n\u001b[1;32m   2570\u001b[0m         \u001b[0mfp\u001b[0m\u001b[0;34m.\u001b[0m\u001b[0mclose\u001b[0m\u001b[0;34m(\u001b[0m\u001b[0;34m)\u001b[0m\u001b[0;34m\u001b[0m\u001b[0;34m\u001b[0m\u001b[0m\n\u001b[1;32m   2571\u001b[0m     raise IOError(\"cannot identify image file %r\"\n\u001b[0;32m-> 2572\u001b[0;31m                   % (filename if filename else fp))\n\u001b[0m\u001b[1;32m   2573\u001b[0m \u001b[0;34m\u001b[0m\u001b[0m\n\u001b[1;32m   2574\u001b[0m \u001b[0;31m#\u001b[0m\u001b[0;34m\u001b[0m\u001b[0;34m\u001b[0m\u001b[0;34m\u001b[0m\u001b[0m\n",
            "\u001b[0;31mOSError\u001b[0m: cannot identify image file '/content/gdrive/My Drive/Colab Notebooks/master_research/validation_images_model/1001/c60384a55e2f6700.jpg'"
          ]
        }
      ]
    },
    {
      "cell_type": "code",
      "metadata": {
        "id": "b9VsyU90NyQW",
        "colab_type": "code",
        "colab": {}
      },
      "source": [
        "epochs = 5\n",
        "batch_size = 490\n",
        "import numpy as np\n",
        "\n",
        "def train_top_model():\n",
        "    train_data = np.load(open('/content/gdrive/My Drive/Colab Notebooks/master_research/bottleneck_features_train.npy', 'rb'))\n",
        "    train_labels = np.array(nb_train_samples[1])\n",
        "    print(type(train_data))\n",
        "    print('hela')\n",
        "    print(train_data.shape[1:])\n",
        "    train_labels = [str(int(train_label) - 1000) for train_label in train_labels] \n",
        "    #Had to subtract 1000 because class labels should start from 0. In this case, class labels had a range from 1000 to 2999. \n",
        "#     print (train_labels)\n",
        "    validation_data = np.load(open('/content/gdrive/My Drive/Colab Notebooks/master_research/bottleneck_features_validation.npy', 'rb'))\n",
        "    validation_labels = np.array(nb_validation_samples[1])\n",
        "    validation_labels = [str(int(validation_label) - 1000) for validation_label in validation_labels]\n",
        "    \n",
        "#     print (validation_labels)\n",
        "    model = Sequential()\n",
        "    model.add(Flatten(input_shape=train_data.shape[1:]))\n",
        "    model.add(Dense(256, activation='relu'))\n",
        "    model.add(Dense(256, activation='relu'))\n",
        "    n_class = 500 #number of classes fed to the model\n",
        "    model.add(Dense(n_class, activation='softmax'))\n",
        "    model.compile(optimizer='rmsprop',\n",
        "                  loss='categorical_crossentropy', metrics=['accuracy'])\n",
        "    train_labels = to_categorical(train_labels, n_class)\n",
        "    validation_labels = to_categorical(validation_labels, n_class)\n",
        "    \n",
        "    print ('model fit starting')\n",
        "    model.fit(train_data, train_labels,\n",
        "              epochs=epochs,\n",
        "              batch_size=batch_size,\n",
        "              validation_data=(validation_data, validation_labels))\n",
        "    model.save_weights(top_model_weights_path)\n",
        "\n",
        "train_top_model()"
      ],
      "execution_count": 0,
      "outputs": []
    },
    {
      "cell_type": "code",
      "metadata": {
        "id": "I2KRaGBDMjLf",
        "colab_type": "code",
        "colab": {}
      },
      "source": [
        "read_df = pd.read_csv('/content/gdrive/My Drive/Colab Notebooks/master_research/train_torch.csv')\n",
        "df_len = len(read_df)\n"
      ],
      "execution_count": 0,
      "outputs": []
    },
    {
      "cell_type": "code",
      "metadata": {
        "id": "4aDEGdUxWc7v",
        "colab_type": "code",
        "outputId": "e3328878-3cb4-47ae-fe59-f1e277d4e6f2",
        "colab": {
          "base_uri": "https://localhost:8080/",
          "height": 195
        }
      },
      "source": [
        "read_df.head()"
      ],
      "execution_count": 0,
      "outputs": [
        {
          "output_type": "execute_result",
          "data": {
            "text/html": [
              "<div>\n",
              "<style scoped>\n",
              "    .dataframe tbody tr th:only-of-type {\n",
              "        vertical-align: middle;\n",
              "    }\n",
              "\n",
              "    .dataframe tbody tr th {\n",
              "        vertical-align: top;\n",
              "    }\n",
              "\n",
              "    .dataframe thead th {\n",
              "        text-align: right;\n",
              "    }\n",
              "</style>\n",
              "<table border=\"1\" class=\"dataframe\">\n",
              "  <thead>\n",
              "    <tr style=\"text-align: right;\">\n",
              "      <th></th>\n",
              "      <th>Unnamed: 0</th>\n",
              "      <th>id</th>\n",
              "      <th>url</th>\n",
              "      <th>landmark_id</th>\n",
              "    </tr>\n",
              "  </thead>\n",
              "  <tbody>\n",
              "    <tr>\n",
              "      <th>0</th>\n",
              "      <td>0</td>\n",
              "      <td>192333daaf6119cf</td>\n",
              "      <td>https://lh5.googleusercontent.com/-eoC653AtqLs...</td>\n",
              "      <td>3</td>\n",
              "    </tr>\n",
              "    <tr>\n",
              "      <th>1</th>\n",
              "      <td>1</td>\n",
              "      <td>f0a4816a71b15ec1</td>\n",
              "      <td>https://lh4.googleusercontent.com/-uu142fuPpro...</td>\n",
              "      <td>4</td>\n",
              "    </tr>\n",
              "    <tr>\n",
              "      <th>2</th>\n",
              "      <td>2</td>\n",
              "      <td>c6ec863b149c03c2</td>\n",
              "      <td>http://lh6.ggpht.com/-7Uu23vhvieY/Sehon7kKivI/...</td>\n",
              "      <td>1</td>\n",
              "    </tr>\n",
              "    <tr>\n",
              "      <th>3</th>\n",
              "      <td>3</td>\n",
              "      <td>8be00a76fa8840fb</td>\n",
              "      <td>http://lh5.ggpht.com/-Dgd-SG5HB7w/SJYZzEcui-I/...</td>\n",
              "      <td>9</td>\n",
              "    </tr>\n",
              "    <tr>\n",
              "      <th>4</th>\n",
              "      <td>4</td>\n",
              "      <td>5b85c8036ee4400d</td>\n",
              "      <td>https://lh5.googleusercontent.com/-fdumkstv_9c...</td>\n",
              "      <td>7</td>\n",
              "    </tr>\n",
              "  </tbody>\n",
              "</table>\n",
              "</div>"
            ],
            "text/plain": [
              "   Unnamed: 0  ... landmark_id\n",
              "0           0  ...           3\n",
              "1           1  ...           4\n",
              "2           2  ...           1\n",
              "3           3  ...           9\n",
              "4           4  ...           7\n",
              "\n",
              "[5 rows x 4 columns]"
            ]
          },
          "metadata": {
            "tags": []
          },
          "execution_count": 6
        }
      ]
    },
    {
      "cell_type": "code",
      "metadata": {
        "id": "w6qQZBjuRo2Q",
        "colab_type": "code",
        "colab": {}
      },
      "source": [
        "temp = pd.DataFrame(columns=read_df.columns,index=range(0,len(read_df)))"
      ],
      "execution_count": 0,
      "outputs": []
    },
    {
      "cell_type": "code",
      "metadata": {
        "id": "3lLDIBhMpwHB",
        "colab_type": "code",
        "colab": {}
      },
      "source": [
        ""
      ],
      "execution_count": 0,
      "outputs": []
    },
    {
      "cell_type": "code",
      "metadata": {
        "id": "0b_3e1Dhpgl0",
        "colab_type": "code",
        "outputId": "9fe2692b-aece-4655-e3c0-edb3b4c7aa18",
        "colab": {
          "base_uri": "https://localhost:8080/",
          "height": 195
        }
      },
      "source": [
        "temp.head()"
      ],
      "execution_count": 0,
      "outputs": [
        {
          "output_type": "execute_result",
          "data": {
            "text/html": [
              "<div>\n",
              "<style scoped>\n",
              "    .dataframe tbody tr th:only-of-type {\n",
              "        vertical-align: middle;\n",
              "    }\n",
              "\n",
              "    .dataframe tbody tr th {\n",
              "        vertical-align: top;\n",
              "    }\n",
              "\n",
              "    .dataframe thead th {\n",
              "        text-align: right;\n",
              "    }\n",
              "</style>\n",
              "<table border=\"1\" class=\"dataframe\">\n",
              "  <thead>\n",
              "    <tr style=\"text-align: right;\">\n",
              "      <th></th>\n",
              "      <th>Unnamed: 0</th>\n",
              "      <th>id</th>\n",
              "      <th>url</th>\n",
              "      <th>landmark_id</th>\n",
              "    </tr>\n",
              "  </thead>\n",
              "  <tbody>\n",
              "    <tr>\n",
              "      <th>0</th>\n",
              "      <td>NaN</td>\n",
              "      <td>NaN</td>\n",
              "      <td>NaN</td>\n",
              "      <td>NaN</td>\n",
              "    </tr>\n",
              "    <tr>\n",
              "      <th>1</th>\n",
              "      <td>NaN</td>\n",
              "      <td>NaN</td>\n",
              "      <td>NaN</td>\n",
              "      <td>NaN</td>\n",
              "    </tr>\n",
              "    <tr>\n",
              "      <th>2</th>\n",
              "      <td>NaN</td>\n",
              "      <td>NaN</td>\n",
              "      <td>NaN</td>\n",
              "      <td>NaN</td>\n",
              "    </tr>\n",
              "    <tr>\n",
              "      <th>3</th>\n",
              "      <td>NaN</td>\n",
              "      <td>NaN</td>\n",
              "      <td>NaN</td>\n",
              "      <td>NaN</td>\n",
              "    </tr>\n",
              "    <tr>\n",
              "      <th>4</th>\n",
              "      <td>NaN</td>\n",
              "      <td>NaN</td>\n",
              "      <td>NaN</td>\n",
              "      <td>NaN</td>\n",
              "    </tr>\n",
              "  </tbody>\n",
              "</table>\n",
              "</div>"
            ],
            "text/plain": [
              "  Unnamed: 0   id  url landmark_id\n",
              "0        NaN  NaN  NaN         NaN\n",
              "1        NaN  NaN  NaN         NaN\n",
              "2        NaN  NaN  NaN         NaN\n",
              "3        NaN  NaN  NaN         NaN\n",
              "4        NaN  NaN  NaN         NaN"
            ]
          },
          "metadata": {
            "tags": []
          },
          "execution_count": 11
        }
      ]
    },
    {
      "cell_type": "code",
      "metadata": {
        "id": "Kc0UHY3mn573",
        "colab_type": "code",
        "colab": {}
      },
      "source": [
        ""
      ],
      "execution_count": 0,
      "outputs": []
    },
    {
      "cell_type": "code",
      "metadata": {
        "id": "9WQ2Wwr1MtlB",
        "colab_type": "code",
        "colab": {}
      },
      "source": [
        " j = 0\n",
        "for i in range(0,len(read_df)):\n",
        " \n",
        "  dir_path = '/content/gdrive/My Drive/Colab Notebooks/master_research/train_images/'+ read_df.iloc[i]['id']+'.jpg'\n",
        "  #print(dir_path)\n",
        "  if os.path.exists(dir_path):\n",
        "    #print(j)\n",
        "    try:\n",
        "      #print('he')\n",
        "      img = Image.open(dir_path)\n",
        "      print('here')\n",
        "      temp.iloc[j] = read_df.iloc[i]\n",
        "      j = j+1\n",
        "    except:\n",
        "      print('error occurred')\n",
        "     \n",
        "    \n",
        "    #print(temp.iloc[j])\n",
        "    \n",
        "  else:\n",
        "    continue\n",
        "    \n",
        "  "
      ],
      "execution_count": 0,
      "outputs": []
    },
    {
      "cell_type": "code",
      "metadata": {
        "id": "1Ggu1sdZ07rl",
        "colab_type": "code",
        "colab": {}
      },
      "source": [
        "temp.drop(['Unnamed: 0'],axis=1,inplace=True)"
      ],
      "execution_count": 0,
      "outputs": []
    },
    {
      "cell_type": "code",
      "metadata": {
        "id": "12ltlqw40qG1",
        "colab_type": "code",
        "colab": {}
      },
      "source": [
        "temp.to_csv('/content/gdrive/My Drive/Colab Notebooks/master_research/data_test_torch_down.csv')"
      ],
      "execution_count": 0,
      "outputs": []
    },
    {
      "cell_type": "code",
      "metadata": {
        "id": "gOpNKP86WDfB",
        "colab_type": "code",
        "colab": {}
      },
      "source": [
        "hello = pd.read_csv('/content/gdrive/My Drive/Colab Notebooks/master_research/data_test_torch_down.csv',index_col=None)"
      ],
      "execution_count": 0,
      "outputs": []
    },
    {
      "cell_type": "code",
      "metadata": {
        "id": "sMtEnWsIpRck",
        "colab_type": "code",
        "outputId": "cd96a7af-17e0-47c8-ddbb-cceff6f9667b",
        "colab": {
          "base_uri": "https://localhost:8080/",
          "height": 195
        }
      },
      "source": [
        "hello.head()"
      ],
      "execution_count": 0,
      "outputs": [
        {
          "output_type": "execute_result",
          "data": {
            "text/html": [
              "<div>\n",
              "<style scoped>\n",
              "    .dataframe tbody tr th:only-of-type {\n",
              "        vertical-align: middle;\n",
              "    }\n",
              "\n",
              "    .dataframe tbody tr th {\n",
              "        vertical-align: top;\n",
              "    }\n",
              "\n",
              "    .dataframe thead th {\n",
              "        text-align: right;\n",
              "    }\n",
              "</style>\n",
              "<table border=\"1\" class=\"dataframe\">\n",
              "  <thead>\n",
              "    <tr style=\"text-align: right;\">\n",
              "      <th></th>\n",
              "      <th>Unnamed: 0</th>\n",
              "      <th>id</th>\n",
              "      <th>url</th>\n",
              "      <th>landmark_id</th>\n",
              "    </tr>\n",
              "  </thead>\n",
              "  <tbody>\n",
              "    <tr>\n",
              "      <th>0</th>\n",
              "      <td>0</td>\n",
              "      <td>NaN</td>\n",
              "      <td>NaN</td>\n",
              "      <td>NaN</td>\n",
              "    </tr>\n",
              "    <tr>\n",
              "      <th>1</th>\n",
              "      <td>1</td>\n",
              "      <td>NaN</td>\n",
              "      <td>NaN</td>\n",
              "      <td>NaN</td>\n",
              "    </tr>\n",
              "    <tr>\n",
              "      <th>2</th>\n",
              "      <td>2</td>\n",
              "      <td>NaN</td>\n",
              "      <td>NaN</td>\n",
              "      <td>NaN</td>\n",
              "    </tr>\n",
              "    <tr>\n",
              "      <th>3</th>\n",
              "      <td>3</td>\n",
              "      <td>NaN</td>\n",
              "      <td>NaN</td>\n",
              "      <td>NaN</td>\n",
              "    </tr>\n",
              "    <tr>\n",
              "      <th>4</th>\n",
              "      <td>4</td>\n",
              "      <td>NaN</td>\n",
              "      <td>NaN</td>\n",
              "      <td>NaN</td>\n",
              "    </tr>\n",
              "  </tbody>\n",
              "</table>\n",
              "</div>"
            ],
            "text/plain": [
              "   Unnamed: 0  id  url  landmark_id\n",
              "0           0 NaN  NaN          NaN\n",
              "1           1 NaN  NaN          NaN\n",
              "2           2 NaN  NaN          NaN\n",
              "3           3 NaN  NaN          NaN\n",
              "4           4 NaN  NaN          NaN"
            ]
          },
          "metadata": {
            "tags": []
          },
          "execution_count": 10
        }
      ]
    },
    {
      "cell_type": "code",
      "metadata": {
        "id": "E0iS_TXhU2lK",
        "colab_type": "code",
        "colab": {}
      },
      "source": [
        "from PIL import Image\n",
        "from torch.utils.data.dataset import Dataset\n",
        "import time\n",
        "import numpy as np\n",
        "import pandas as pd\n",
        "import datetime as dt\n",
        "import matplotlib.pyplot as plt\n",
        "from mpl_toolkits.axes_grid1 import ImageGrid\n",
        "import torch\n",
        "from torch.optim import lr_scheduler\n",
        "from torch.autograd import Variable\n",
        "from torch.utils.data import Dataset, DataLoader\n",
        "from torchvision import transforms, datasets, models\n",
        "from torch.utils.data.sampler import SubsetRandomSampler"
      ],
      "execution_count": 0,
      "outputs": []
    },
    {
      "cell_type": "code",
      "metadata": {
        "id": "FNwXtUKbU7I3",
        "colab_type": "code",
        "colab": {}
      },
      "source": [
        "class CustomDatasetFromImages(Dataset):\n",
        "    def __init__(self, csv_path):\n",
        "        \n",
        "        self.to_tensor = transforms.ToTensor()\n",
        "        self.normalize = transforms.Normalize(\n",
        "                           mean=[0.485, 0.456, 0.406],\n",
        "                           std=[0.229, 0.224, 0.225]\n",
        "                            )\n",
        "        self.resize = transforms.Resize(224)\n",
        "        self.crop = transforms.CenterCrop(224)\n",
        "        self.data_info = pd.read_csv(csv_path, header=0)\n",
        "        self.image_arr = np.asarray(self.data_info.iloc[:, 1])\n",
        "        self.label_arr = np.asarray(self.data_info.iloc[:, 3])\n",
        "        self.data_len = len(self.data_info.index)\n",
        "\n",
        "    def __getitem__(self, index):\n",
        "        single_image_name = self.image_arr[index]+'.jpg'\n",
        "        single_folder_name = self.label_arr[index]\n",
        "        dir_path = r'/content/gdrive/My Drive/Colab Notebooks/master_research/train_images/'+str(single_folder_name)+'/'+str(single_image_name)\n",
        "        \n",
        "\n",
        "        try:\n",
        "          img = Image.open(dir_path)\n",
        "          print('size of the image')\n",
        "          print(img.size)\n",
        "          img = self.resize(img)\n",
        "          img = self.crop(img)\n",
        "          img_as_tensor = self.to_tensor(img)\n",
        "          img_as_tensor = self.normalize(img_as_tensor)\n",
        "          single_image_label = self.label_arr[index]\n",
        "          return (img_as_tensor,single_image_label)\n",
        "          #return img.size(\n",
        "        except:\n",
        "          print(\"An exception occurred\"+dir_path)\n",
        "          pass \n",
        "     \n",
        "    def __len__(self):\n",
        "        return self.data_len\n",
        "\n",
        "if __name__ == \"__main__\":\n",
        "    # Call dataset\n",
        "\n",
        "    landmarks_train = CustomDatasetFromImages('/content/gdrive/My Drive/Colab Notebooks/master_research/train_working_8364.csv')"
      ],
      "execution_count": 0,
      "outputs": []
    },
    {
      "cell_type": "code",
      "metadata": {
        "id": "umMtEj3lujUc",
        "colab_type": "code",
        "outputId": "a2a3e5fe-a0a2-42aa-abe9-9d39d6d3379b",
        "colab": {
          "base_uri": "https://localhost:8080/",
          "height": 34
        }
      },
      "source": [
        "hello =landmarks_train.__getitem__(5)"
      ],
      "execution_count": 0,
      "outputs": [
        {
          "output_type": "stream",
          "text": [
            "/content/gdrive/My Drive/Colab Notebooks/master_research/train_images/6511/d369520abdc48e11.jpg\n"
          ],
          "name": "stdout"
        }
      ]
    },
    {
      "cell_type": "code",
      "metadata": {
        "id": "NKw-NNEqxMYT",
        "colab_type": "code",
        "colab": {}
      },
      "source": [
        "train_dataset = datasets.ImageFolder('/content/gdrive/My Drive/Colab Notebooks/master_research/train_images/')"
      ],
      "execution_count": 0,
      "outputs": []
    },
    {
      "cell_type": "code",
      "metadata": {
        "id": "qzrPloFHWefD",
        "colab_type": "code",
        "colab": {}
      },
      "source": [
        "train_dataset.classes"
      ],
      "execution_count": 0,
      "outputs": []
    },
    {
      "cell_type": "code",
      "metadata": {
        "id": "stHIkTeDV2B4",
        "colab_type": "code",
        "colab": {}
      },
      "source": [
        "batch_size = 5\n",
        "validation_split = .2\n",
        "shuffle_dataset = True\n",
        "random_seed= 42\n",
        "dataset_size = len(landmarks_train)\n",
        "indices = list(range(dataset_size))\n",
        "split = int(np.floor(validation_split * dataset_size))\n",
        "if shuffle_dataset :\n",
        "    np.random.seed(random_seed)\n",
        "    np.random.shuffle(indices)\n",
        "train_indices, val_indices = indices[split:], indices[:split]\n",
        "\n",
        "train_sampler = SubsetRandomSampler(train_indices)\n",
        "valid_sampler = SubsetRandomSampler(val_indices)\n",
        "\n",
        "train_loader = torch.utils.data.DataLoader(landmarks_train, batch_size=batch_size, sampler=train_sampler)\n",
        "valid_loader = torch.utils.data.DataLoader(landmarks_train, batch_size=batch_size, sampler=valid_sampler)"
      ],
      "execution_count": 0,
      "outputs": []
    },
    {
      "cell_type": "code",
      "metadata": {
        "id": "9JsEOycxr9Kh",
        "colab_type": "code",
        "colab": {}
      },
      "source": [
        ""
      ],
      "execution_count": 0,
      "outputs": []
    },
    {
      "cell_type": "code",
      "metadata": {
        "id": "CKAlu-0ZWAKq",
        "colab_type": "code",
        "colab": {}
      },
      "source": [
        "def imshow(axis, inp):\n",
        "    \"\"\"Denormalize and show\"\"\"\n",
        "    inp = inp.numpy().transpose((1, 2, 0))\n",
        "    mean = np.array([0.485, 0.456, 0.406])\n",
        "    std = np.array([0.229, 0.224, 0.225])\n",
        "    inp = std * inp + mean\n",
        "    axis.imshow(inp)"
      ],
      "execution_count": 0,
      "outputs": []
    },
    {
      "cell_type": "code",
      "metadata": {
        "id": "C-lj_KkSEX9Y",
        "colab_type": "code",
        "colab": {}
      },
      "source": [
        "training_loader_iter = iter(train_loader)"
      ],
      "execution_count": 0,
      "outputs": []
    },
    {
      "cell_type": "code",
      "metadata": {
        "id": "qP2pbC0AMJ9p",
        "colab_type": "code",
        "colab": {}
      },
      "source": [
        "for idx in range(3):\n",
        "  img, label = next(training_loader_iter)\n",
        "  fig = plt.figure(1, figsize=(16, 4))\n",
        "  grid = ImageGrid(fig, 111, nrows_ncols=(1, 4), axes_pad=0.05)\n",
        "  for i in range(4):\n",
        "      ax = grid[i]\n",
        "      imshow(ax, img[i])  "
      ],
      "execution_count": 0,
      "outputs": []
    },
    {
      "cell_type": "code",
      "metadata": {
        "id": "ibMWFJecsjOs",
        "colab_type": "code",
        "outputId": "9ec0a2c5-c926-4000-883f-903a6ccc644a",
        "colab": {
          "base_uri": "https://localhost:8080/",
          "height": 286
        }
      },
      "source": [
        "use_gpu = torch.cuda.is_available()\n",
        "volatile=True\n",
        "resnet = models.resnet50(pretrained=True)\n",
        "inputs, labels = next(iter(train_loader))\n",
        "resnet = resnet.cuda()\n",
        "inputs, labels = Variable(inputs.cuda()), Variable(labels.cuda())   \n",
        "outputs = resnet(inputs)\n",
        "outputs"
      ],
      "execution_count": 0,
      "outputs": [
        {
          "output_type": "stream",
          "text": [
            "size of the image\n",
            "(1600, 1200)\n",
            "size of the image\n",
            "(1600, 1200)\n",
            "size of the image\n",
            "(1200, 1600)\n",
            "size of the image\n",
            "(1024, 768)\n",
            "size of the image\n",
            "(1600, 1200)\n"
          ],
          "name": "stdout"
        },
        {
          "output_type": "execute_result",
          "data": {
            "text/plain": [
              "tensor([[-0.2694,  0.7849,  0.7987,  ...,  1.5062,  1.1582,  1.0888],\n",
              "        [-3.4425, -1.6673, -1.3675,  ..., -1.4573,  0.9107, -0.5987],\n",
              "        [-0.3540, -1.7301,  0.4896,  ..., -2.7695,  1.3383, -0.2298],\n",
              "        [-1.6446,  0.9563, -1.9116,  ..., -0.8069,  0.7711,  2.9739],\n",
              "        [-0.3990, -0.5433, -0.5574,  ..., -0.1002,  0.6307,  0.8562]],\n",
              "       device='cuda:0', grad_fn=<AddmmBackward>)"
            ]
          },
          "metadata": {
            "tags": []
          },
          "execution_count": 49
        }
      ]
    },
    {
      "cell_type": "code",
      "metadata": {
        "id": "Y4t6COk2Gt6B",
        "colab_type": "code",
        "colab": {}
      },
      "source": [
        "/content/gdrive/My Drive/Colab Notebooks/master_research/train_images/7130/8f2da412d32b1873.jpg"
      ],
      "execution_count": 0,
      "outputs": []
    }
  ]
}